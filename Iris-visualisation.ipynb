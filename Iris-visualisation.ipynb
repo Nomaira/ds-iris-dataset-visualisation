{
 "cells": [
  {
   "cell_type": "code",
   "execution_count": 1,
   "id": "numerous-ribbon",
   "metadata": {},
   "outputs": [],
   "source": [
    "import altair as alt\n",
    "import pandas as pd\n",
    "\n",
    "from vega_datasets import data"
   ]
  },
  {
   "cell_type": "code",
   "execution_count": 2,
   "id": "brave-whale",
   "metadata": {},
   "outputs": [],
   "source": [
    "# read Iris dataset\n",
    "data = pd.read_csv(\"iris.csv\")"
   ]
  },
  {
   "cell_type": "code",
   "execution_count": 3,
   "id": "above-destiny",
   "metadata": {},
   "outputs": [],
   "source": [
    "# To seperate bits of data in the dashboard\n",
    "brush = alt.selection_interval()"
   ]
  },
  {
   "cell_type": "code",
   "execution_count": 4,
   "id": "sound-costs",
   "metadata": {},
   "outputs": [],
   "source": [
    "# Plot 4 scatterplots for realtionship between the 4 factors; Petal Length, Petal Width, Sepal Length and Sepal Width\n",
    "\n",
    "points_1 = alt.Chart(data).mark_point().encode(\n",
    "    x='Petal Width:Q',\n",
    "    y='Petal Length:Q',\n",
    "    color=alt.condition(brush, 'Class:N', alt.value('lightgray'))\n",
    ").properties(\n",
    "    title='Petal Data'\n",
    ").add_selection(\n",
    "    brush\n",
    ")\n",
    "\n",
    "points_2 = alt.Chart(data).mark_point().encode(\n",
    "    x='Sepal Width:Q',\n",
    "    y='Petal Length:Q',\n",
    "    color=alt.condition(brush, 'Class:N', alt.value('lightgray'))\n",
    ").properties(\n",
    "    title='Petal Length and Sepal Width Data'\n",
    ").add_selection(\n",
    "    brush\n",
    ")\n",
    "\n",
    "points_3 = alt.Chart(data).mark_point().encode(\n",
    "    x='Petal Width:Q',\n",
    "    y='Sepal Length:Q',\n",
    "    color=alt.condition(brush, 'Class:N', alt.value('lightgray'))\n",
    ").properties(\n",
    "    title='Sepal Length and Petal Width Data'\n",
    ").add_selection(\n",
    "    brush\n",
    ")\n",
    "\n",
    "points_4 = alt.Chart(data).mark_point().encode(\n",
    "    x='Sepal Width:Q',\n",
    "    y='Sepal Length:Q',\n",
    "    color=alt.condition(brush, 'Class:N', alt.value('lightgray'))\n",
    ").properties(\n",
    "    title='Sepal Data'\n",
    ").add_selection(\n",
    "    brush\n",
    ")\n"
   ]
  },
  {
   "cell_type": "code",
   "execution_count": 5,
   "id": "judicial-professional",
   "metadata": {},
   "outputs": [],
   "source": [
    "# 4 Boxplot of each factor for the three Iris classes\n",
    "box_1 = alt.Chart(data).mark_boxplot().encode(\n",
    "    x='Petal Length:Q',\n",
    "    y='Class:N',\n",
    "    color='Class:N'\n",
    ").properties(\n",
    "    title='Petal Length Summary'\n",
    ").transform_filter(\n",
    "    brush\n",
    ")\n",
    "\n",
    "box_2 = alt.Chart(data).mark_boxplot().encode(\n",
    "    x='Petal Width:Q',\n",
    "    y='Class:N',\n",
    "    color='Class:N'\n",
    ").properties(\n",
    "    title='Petal Width Summary'\n",
    ").transform_filter(\n",
    "    brush\n",
    ")\n",
    "\n",
    "box_3 = alt.Chart(data).mark_boxplot().encode(\n",
    "    x='Sepal Length:Q',\n",
    "    y='Class:N',\n",
    "    color='Class:N'\n",
    ").properties(\n",
    "    title='Sepal Length Summary'\n",
    ").transform_filter(\n",
    "    brush\n",
    ")\n",
    "\n",
    "box_4 = alt.Chart(data).mark_boxplot().encode(\n",
    "    x='Sepal Width:Q',\n",
    "    y='Class:N',\n",
    "    color='Class:N'\n",
    ").properties(\n",
    "    title='Sepal Width Summary'\n",
    ").transform_filter(\n",
    "    brush\n",
    ")"
   ]
  },
  {
   "cell_type": "code",
   "execution_count": 6,
   "id": "continental-bubble",
   "metadata": {},
   "outputs": [
    {
     "data": {
      "text/html": [
       "\n",
       "<div id=\"altair-viz-4cb02541ba3943a48667cad381cfb188\"></div>\n",
       "<script type=\"text/javascript\">\n",
       "  (function(spec, embedOpt){\n",
       "    let outputDiv = document.currentScript.previousElementSibling;\n",
       "    if (outputDiv.id !== \"altair-viz-4cb02541ba3943a48667cad381cfb188\") {\n",
       "      outputDiv = document.getElementById(\"altair-viz-4cb02541ba3943a48667cad381cfb188\");\n",
       "    }\n",
       "    const paths = {\n",
       "      \"vega\": \"https://cdn.jsdelivr.net/npm//vega@5?noext\",\n",
       "      \"vega-lib\": \"https://cdn.jsdelivr.net/npm//vega-lib?noext\",\n",
       "      \"vega-lite\": \"https://cdn.jsdelivr.net/npm//vega-lite@4.8.1?noext\",\n",
       "      \"vega-embed\": \"https://cdn.jsdelivr.net/npm//vega-embed@6?noext\",\n",
       "    };\n",
       "\n",
       "    function loadScript(lib) {\n",
       "      return new Promise(function(resolve, reject) {\n",
       "        var s = document.createElement('script');\n",
       "        s.src = paths[lib];\n",
       "        s.async = true;\n",
       "        s.onload = () => resolve(paths[lib]);\n",
       "        s.onerror = () => reject(`Error loading script: ${paths[lib]}`);\n",
       "        document.getElementsByTagName(\"head\")[0].appendChild(s);\n",
       "      });\n",
       "    }\n",
       "\n",
       "    function showError(err) {\n",
       "      outputDiv.innerHTML = `<div class=\"error\" style=\"color:red;\">${err}</div>`;\n",
       "      throw err;\n",
       "    }\n",
       "\n",
       "    function displayChart(vegaEmbed) {\n",
       "      vegaEmbed(outputDiv, spec, embedOpt)\n",
       "        .catch(err => showError(`Javascript Error: ${err.message}<br>This usually means there's a typo in your chart specification. See the javascript console for the full traceback.`));\n",
       "    }\n",
       "\n",
       "    if(typeof define === \"function\" && define.amd) {\n",
       "      requirejs.config({paths});\n",
       "      require([\"vega-embed\"], displayChart, err => showError(`Error loading script: ${err.message}`));\n",
       "    } else if (typeof vegaEmbed === \"function\") {\n",
       "      displayChart(vegaEmbed);\n",
       "    } else {\n",
       "      loadScript(\"vega\")\n",
       "        .then(() => loadScript(\"vega-lite\"))\n",
       "        .then(() => loadScript(\"vega-embed\"))\n",
       "        .catch(showError)\n",
       "        .then(() => displayChart(vegaEmbed));\n",
       "    }\n",
       "  })({\"config\": {\"view\": {\"continuousWidth\": 400, \"continuousHeight\": 300}}, \"hconcat\": [{\"vconcat\": [{\"mark\": \"point\", \"encoding\": {\"color\": {\"condition\": {\"type\": \"nominal\", \"field\": \"Class\", \"selection\": \"selector001\"}, \"value\": \"lightgray\"}, \"x\": {\"type\": \"quantitative\", \"field\": \"Petal Width\"}, \"y\": {\"type\": \"quantitative\", \"field\": \"Petal Length\"}}, \"selection\": {\"selector001\": {\"type\": \"interval\"}}, \"title\": \"Petal Data\"}, {\"mark\": \"point\", \"encoding\": {\"color\": {\"condition\": {\"type\": \"nominal\", \"field\": \"Class\", \"selection\": \"selector001\"}, \"value\": \"lightgray\"}, \"x\": {\"type\": \"quantitative\", \"field\": \"Sepal Width\"}, \"y\": {\"type\": \"quantitative\", \"field\": \"Petal Length\"}}, \"selection\": {\"selector001\": {\"type\": \"interval\"}}, \"title\": \"Petal Length and Sepal Width Data\"}]}, {\"vconcat\": [{\"mark\": \"point\", \"encoding\": {\"color\": {\"condition\": {\"type\": \"nominal\", \"field\": \"Class\", \"selection\": \"selector001\"}, \"value\": \"lightgray\"}, \"x\": {\"type\": \"quantitative\", \"field\": \"Petal Width\"}, \"y\": {\"type\": \"quantitative\", \"field\": \"Sepal Length\"}}, \"selection\": {\"selector001\": {\"type\": \"interval\"}}, \"title\": \"Sepal Length and Petal Width Data\"}, {\"mark\": \"point\", \"encoding\": {\"color\": {\"condition\": {\"type\": \"nominal\", \"field\": \"Class\", \"selection\": \"selector001\"}, \"value\": \"lightgray\"}, \"x\": {\"type\": \"quantitative\", \"field\": \"Sepal Width\"}, \"y\": {\"type\": \"quantitative\", \"field\": \"Sepal Length\"}}, \"selection\": {\"selector001\": {\"type\": \"interval\"}}, \"title\": \"Sepal Data\"}]}, {\"vconcat\": [{\"mark\": \"boxplot\", \"encoding\": {\"color\": {\"type\": \"nominal\", \"field\": \"Class\"}, \"x\": {\"type\": \"quantitative\", \"field\": \"Petal Length\"}, \"y\": {\"type\": \"nominal\", \"field\": \"Class\"}}, \"title\": \"Petal Length Summary\", \"transform\": [{\"filter\": {\"selection\": \"selector001\"}}]}, {\"mark\": \"boxplot\", \"encoding\": {\"color\": {\"type\": \"nominal\", \"field\": \"Class\"}, \"x\": {\"type\": \"quantitative\", \"field\": \"Petal Width\"}, \"y\": {\"type\": \"nominal\", \"field\": \"Class\"}}, \"title\": \"Petal Width Summary\", \"transform\": [{\"filter\": {\"selection\": \"selector001\"}}]}, {\"mark\": \"boxplot\", \"encoding\": {\"color\": {\"type\": \"nominal\", \"field\": \"Class\"}, \"x\": {\"type\": \"quantitative\", \"field\": \"Sepal Length\"}, \"y\": {\"type\": \"nominal\", \"field\": \"Class\"}}, \"title\": \"Sepal Length Summary\", \"transform\": [{\"filter\": {\"selection\": \"selector001\"}}]}, {\"mark\": \"boxplot\", \"encoding\": {\"color\": {\"type\": \"nominal\", \"field\": \"Class\"}, \"x\": {\"type\": \"quantitative\", \"field\": \"Sepal Width\"}, \"y\": {\"type\": \"nominal\", \"field\": \"Class\"}}, \"title\": \"Sepal Width Summary\", \"transform\": [{\"filter\": {\"selection\": \"selector001\"}}]}]}], \"data\": {\"name\": \"data-ac6934c2f4458f3f04cac25a1411fd13\"}, \"$schema\": \"https://vega.github.io/schema/vega-lite/v4.8.1.json\", \"datasets\": {\"data-ac6934c2f4458f3f04cac25a1411fd13\": [{\"Sepal Length\": 5.1, \"Sepal Width\": 3.5, \"Petal Length\": 1.4, \"Petal Width\": 0.2, \"Class\": \"Iris-setosa\"}, {\"Sepal Length\": 4.9, \"Sepal Width\": 3.0, \"Petal Length\": 1.4, \"Petal Width\": 0.2, \"Class\": \"Iris-setosa\"}, {\"Sepal Length\": 4.7, \"Sepal Width\": 3.2, \"Petal Length\": 1.3, \"Petal Width\": 0.2, \"Class\": \"Iris-setosa\"}, {\"Sepal Length\": 4.6, \"Sepal Width\": 3.1, \"Petal Length\": 1.5, \"Petal Width\": 0.2, \"Class\": \"Iris-setosa\"}, {\"Sepal Length\": 5.0, \"Sepal Width\": 3.6, \"Petal Length\": 1.4, \"Petal Width\": 0.2, \"Class\": \"Iris-setosa\"}, {\"Sepal Length\": 5.4, \"Sepal Width\": 3.9, \"Petal Length\": 1.7, \"Petal Width\": 0.4, \"Class\": \"Iris-setosa\"}, {\"Sepal Length\": 4.6, \"Sepal Width\": 3.4, \"Petal Length\": 1.4, \"Petal Width\": 0.3, \"Class\": \"Iris-setosa\"}, {\"Sepal Length\": 5.0, \"Sepal Width\": 3.4, \"Petal Length\": 1.5, \"Petal Width\": 0.2, \"Class\": \"Iris-setosa\"}, {\"Sepal Length\": 4.4, \"Sepal Width\": 2.9, \"Petal Length\": 1.4, \"Petal Width\": 0.2, \"Class\": \"Iris-setosa\"}, {\"Sepal Length\": 4.9, \"Sepal Width\": 3.1, \"Petal Length\": 1.5, \"Petal Width\": 0.1, \"Class\": \"Iris-setosa\"}, {\"Sepal Length\": 5.4, \"Sepal Width\": 3.7, \"Petal Length\": 1.5, \"Petal Width\": 0.2, \"Class\": \"Iris-setosa\"}, {\"Sepal Length\": 4.8, \"Sepal Width\": 3.4, \"Petal Length\": 1.6, \"Petal Width\": 0.2, \"Class\": \"Iris-setosa\"}, {\"Sepal Length\": 4.8, \"Sepal Width\": 3.0, \"Petal Length\": 1.4, \"Petal Width\": 0.1, \"Class\": \"Iris-setosa\"}, {\"Sepal Length\": 4.3, \"Sepal Width\": 3.0, \"Petal Length\": 1.1, \"Petal Width\": 0.1, \"Class\": \"Iris-setosa\"}, {\"Sepal Length\": 5.8, \"Sepal Width\": 4.0, \"Petal Length\": 1.2, \"Petal Width\": 0.2, \"Class\": \"Iris-setosa\"}, {\"Sepal Length\": 5.7, \"Sepal Width\": 4.4, \"Petal Length\": 1.5, \"Petal Width\": 0.4, \"Class\": \"Iris-setosa\"}, {\"Sepal Length\": 5.4, \"Sepal Width\": 3.9, \"Petal Length\": 1.3, \"Petal Width\": 0.4, \"Class\": \"Iris-setosa\"}, {\"Sepal Length\": 5.1, \"Sepal Width\": 3.5, \"Petal Length\": 1.4, \"Petal Width\": 0.3, \"Class\": \"Iris-setosa\"}, {\"Sepal Length\": 5.7, \"Sepal Width\": 3.8, \"Petal Length\": 1.7, \"Petal Width\": 0.3, \"Class\": \"Iris-setosa\"}, {\"Sepal Length\": 5.1, \"Sepal Width\": 3.8, \"Petal Length\": 1.5, \"Petal Width\": 0.3, \"Class\": \"Iris-setosa\"}, {\"Sepal Length\": 5.4, \"Sepal Width\": 3.4, \"Petal Length\": 1.7, \"Petal Width\": 0.2, \"Class\": \"Iris-setosa\"}, {\"Sepal Length\": 5.1, \"Sepal Width\": 3.7, \"Petal Length\": 1.5, \"Petal Width\": 0.4, \"Class\": \"Iris-setosa\"}, {\"Sepal Length\": 4.6, \"Sepal Width\": 3.6, \"Petal Length\": 1.0, \"Petal Width\": 0.2, \"Class\": \"Iris-setosa\"}, {\"Sepal Length\": 5.1, \"Sepal Width\": 3.3, \"Petal Length\": 1.7, \"Petal Width\": 0.5, \"Class\": \"Iris-setosa\"}, {\"Sepal Length\": 4.8, \"Sepal Width\": 3.4, \"Petal Length\": 1.9, \"Petal Width\": 0.2, \"Class\": \"Iris-setosa\"}, {\"Sepal Length\": 5.0, \"Sepal Width\": 3.0, \"Petal Length\": 1.6, \"Petal Width\": 0.2, \"Class\": \"Iris-setosa\"}, {\"Sepal Length\": 5.0, \"Sepal Width\": 3.4, \"Petal Length\": 1.6, \"Petal Width\": 0.4, \"Class\": \"Iris-setosa\"}, {\"Sepal Length\": 5.2, \"Sepal Width\": 3.5, \"Petal Length\": 1.5, \"Petal Width\": 0.2, \"Class\": \"Iris-setosa\"}, {\"Sepal Length\": 5.2, \"Sepal Width\": 3.4, \"Petal Length\": 1.4, \"Petal Width\": 0.2, \"Class\": \"Iris-setosa\"}, {\"Sepal Length\": 4.7, \"Sepal Width\": 3.2, \"Petal Length\": 1.6, \"Petal Width\": 0.2, \"Class\": \"Iris-setosa\"}, {\"Sepal Length\": 4.8, \"Sepal Width\": 3.1, \"Petal Length\": 1.6, \"Petal Width\": 0.2, \"Class\": \"Iris-setosa\"}, {\"Sepal Length\": 5.4, \"Sepal Width\": 3.4, \"Petal Length\": 1.5, \"Petal Width\": 0.4, \"Class\": \"Iris-setosa\"}, {\"Sepal Length\": 5.2, \"Sepal Width\": 4.1, \"Petal Length\": 1.5, \"Petal Width\": 0.1, \"Class\": \"Iris-setosa\"}, {\"Sepal Length\": 5.5, \"Sepal Width\": 4.2, \"Petal Length\": 1.4, \"Petal Width\": 0.2, \"Class\": \"Iris-setosa\"}, {\"Sepal Length\": 4.9, \"Sepal Width\": 3.1, \"Petal Length\": 1.5, \"Petal Width\": 0.1, \"Class\": \"Iris-setosa\"}, {\"Sepal Length\": 5.0, \"Sepal Width\": 3.2, \"Petal Length\": 1.2, \"Petal Width\": 0.2, \"Class\": \"Iris-setosa\"}, {\"Sepal Length\": 5.5, \"Sepal Width\": 3.5, \"Petal Length\": 1.3, \"Petal Width\": 0.2, \"Class\": \"Iris-setosa\"}, {\"Sepal Length\": 4.9, \"Sepal Width\": 3.1, \"Petal Length\": 1.5, \"Petal Width\": 0.1, \"Class\": \"Iris-setosa\"}, {\"Sepal Length\": 4.4, \"Sepal Width\": 3.0, \"Petal Length\": 1.3, \"Petal Width\": 0.2, \"Class\": \"Iris-setosa\"}, {\"Sepal Length\": 5.1, \"Sepal Width\": 3.4, \"Petal Length\": 1.5, \"Petal Width\": 0.2, \"Class\": \"Iris-setosa\"}, {\"Sepal Length\": 5.0, \"Sepal Width\": 3.5, \"Petal Length\": 1.3, \"Petal Width\": 0.3, \"Class\": \"Iris-setosa\"}, {\"Sepal Length\": 4.5, \"Sepal Width\": 2.3, \"Petal Length\": 1.3, \"Petal Width\": 0.3, \"Class\": \"Iris-setosa\"}, {\"Sepal Length\": 4.4, \"Sepal Width\": 3.2, \"Petal Length\": 1.3, \"Petal Width\": 0.2, \"Class\": \"Iris-setosa\"}, {\"Sepal Length\": 5.0, \"Sepal Width\": 3.5, \"Petal Length\": 1.6, \"Petal Width\": 0.6, \"Class\": \"Iris-setosa\"}, {\"Sepal Length\": 5.1, \"Sepal Width\": 3.8, \"Petal Length\": 1.9, \"Petal Width\": 0.4, \"Class\": \"Iris-setosa\"}, {\"Sepal Length\": 4.8, \"Sepal Width\": 3.0, \"Petal Length\": 1.4, \"Petal Width\": 0.3, \"Class\": \"Iris-setosa\"}, {\"Sepal Length\": 5.1, \"Sepal Width\": 3.8, \"Petal Length\": 1.6, \"Petal Width\": 0.2, \"Class\": \"Iris-setosa\"}, {\"Sepal Length\": 4.6, \"Sepal Width\": 3.2, \"Petal Length\": 1.4, \"Petal Width\": 0.2, \"Class\": \"Iris-setosa\"}, {\"Sepal Length\": 5.3, \"Sepal Width\": 3.7, \"Petal Length\": 1.5, \"Petal Width\": 0.2, \"Class\": \"Iris-setosa\"}, {\"Sepal Length\": 5.0, \"Sepal Width\": 3.3, \"Petal Length\": 1.4, \"Petal Width\": 0.2, \"Class\": \"Iris-setosa\"}, {\"Sepal Length\": 7.0, \"Sepal Width\": 3.2, \"Petal Length\": 4.7, \"Petal Width\": 1.4, \"Class\": \"Iris-versicolor\"}, {\"Sepal Length\": 6.4, \"Sepal Width\": 3.2, \"Petal Length\": 4.5, \"Petal Width\": 1.5, \"Class\": \"Iris-versicolor\"}, {\"Sepal Length\": 6.9, \"Sepal Width\": 3.1, \"Petal Length\": 4.9, \"Petal Width\": 1.5, \"Class\": \"Iris-versicolor\"}, {\"Sepal Length\": 5.5, \"Sepal Width\": 2.3, \"Petal Length\": 4.0, \"Petal Width\": 1.3, \"Class\": \"Iris-versicolor\"}, {\"Sepal Length\": 6.5, \"Sepal Width\": 2.8, \"Petal Length\": 4.6, \"Petal Width\": 1.5, \"Class\": \"Iris-versicolor\"}, {\"Sepal Length\": 5.7, \"Sepal Width\": 2.8, \"Petal Length\": 4.5, \"Petal Width\": 1.3, \"Class\": \"Iris-versicolor\"}, {\"Sepal Length\": 6.3, \"Sepal Width\": 3.3, \"Petal Length\": 4.7, \"Petal Width\": 1.6, \"Class\": \"Iris-versicolor\"}, {\"Sepal Length\": 4.9, \"Sepal Width\": 2.4, \"Petal Length\": 3.3, \"Petal Width\": 1.0, \"Class\": \"Iris-versicolor\"}, {\"Sepal Length\": 6.6, \"Sepal Width\": 2.9, \"Petal Length\": 4.6, \"Petal Width\": 1.3, \"Class\": \"Iris-versicolor\"}, {\"Sepal Length\": 5.2, \"Sepal Width\": 2.7, \"Petal Length\": 3.9, \"Petal Width\": 1.4, \"Class\": \"Iris-versicolor\"}, {\"Sepal Length\": 5.0, \"Sepal Width\": 2.0, \"Petal Length\": 3.5, \"Petal Width\": 1.0, \"Class\": \"Iris-versicolor\"}, {\"Sepal Length\": 5.9, \"Sepal Width\": 3.0, \"Petal Length\": 4.2, \"Petal Width\": 1.5, \"Class\": \"Iris-versicolor\"}, {\"Sepal Length\": 6.0, \"Sepal Width\": 2.2, \"Petal Length\": 4.0, \"Petal Width\": 1.0, \"Class\": \"Iris-versicolor\"}, {\"Sepal Length\": 6.1, \"Sepal Width\": 2.9, \"Petal Length\": 4.7, \"Petal Width\": 1.4, \"Class\": \"Iris-versicolor\"}, {\"Sepal Length\": 5.6, \"Sepal Width\": 2.9, \"Petal Length\": 3.6, \"Petal Width\": 1.3, \"Class\": \"Iris-versicolor\"}, {\"Sepal Length\": 6.7, \"Sepal Width\": 3.1, \"Petal Length\": 4.4, \"Petal Width\": 1.4, \"Class\": \"Iris-versicolor\"}, {\"Sepal Length\": 5.6, \"Sepal Width\": 3.0, \"Petal Length\": 4.5, \"Petal Width\": 1.5, \"Class\": \"Iris-versicolor\"}, {\"Sepal Length\": 5.8, \"Sepal Width\": 2.7, \"Petal Length\": 4.1, \"Petal Width\": 1.0, \"Class\": \"Iris-versicolor\"}, {\"Sepal Length\": 6.2, \"Sepal Width\": 2.2, \"Petal Length\": 4.5, \"Petal Width\": 1.5, \"Class\": \"Iris-versicolor\"}, {\"Sepal Length\": 5.6, \"Sepal Width\": 2.5, \"Petal Length\": 3.9, \"Petal Width\": 1.1, \"Class\": \"Iris-versicolor\"}, {\"Sepal Length\": 5.9, \"Sepal Width\": 3.2, \"Petal Length\": 4.8, \"Petal Width\": 1.8, \"Class\": \"Iris-versicolor\"}, {\"Sepal Length\": 6.1, \"Sepal Width\": 2.8, \"Petal Length\": 4.0, \"Petal Width\": 1.3, \"Class\": \"Iris-versicolor\"}, {\"Sepal Length\": 6.3, \"Sepal Width\": 2.5, \"Petal Length\": 4.9, \"Petal Width\": 1.5, \"Class\": \"Iris-versicolor\"}, {\"Sepal Length\": 6.1, \"Sepal Width\": 2.8, \"Petal Length\": 4.7, \"Petal Width\": 1.2, \"Class\": \"Iris-versicolor\"}, {\"Sepal Length\": 6.4, \"Sepal Width\": 2.9, \"Petal Length\": 4.3, \"Petal Width\": 1.3, \"Class\": \"Iris-versicolor\"}, {\"Sepal Length\": 6.6, \"Sepal Width\": 3.0, \"Petal Length\": 4.4, \"Petal Width\": 1.4, \"Class\": \"Iris-versicolor\"}, {\"Sepal Length\": 6.8, \"Sepal Width\": 2.8, \"Petal Length\": 4.8, \"Petal Width\": 1.4, \"Class\": \"Iris-versicolor\"}, {\"Sepal Length\": 6.7, \"Sepal Width\": 3.0, \"Petal Length\": 5.0, \"Petal Width\": 1.7, \"Class\": \"Iris-versicolor\"}, {\"Sepal Length\": 6.0, \"Sepal Width\": 2.9, \"Petal Length\": 4.5, \"Petal Width\": 1.5, \"Class\": \"Iris-versicolor\"}, {\"Sepal Length\": 5.7, \"Sepal Width\": 2.6, \"Petal Length\": 3.5, \"Petal Width\": 1.0, \"Class\": \"Iris-versicolor\"}, {\"Sepal Length\": 5.5, \"Sepal Width\": 2.4, \"Petal Length\": 3.8, \"Petal Width\": 1.1, \"Class\": \"Iris-versicolor\"}, {\"Sepal Length\": 5.5, \"Sepal Width\": 2.4, \"Petal Length\": 3.7, \"Petal Width\": 1.0, \"Class\": \"Iris-versicolor\"}, {\"Sepal Length\": 5.8, \"Sepal Width\": 2.7, \"Petal Length\": 3.9, \"Petal Width\": 1.2, \"Class\": \"Iris-versicolor\"}, {\"Sepal Length\": 6.0, \"Sepal Width\": 2.7, \"Petal Length\": 5.1, \"Petal Width\": 1.6, \"Class\": \"Iris-versicolor\"}, {\"Sepal Length\": 5.4, \"Sepal Width\": 3.0, \"Petal Length\": 4.5, \"Petal Width\": 1.5, \"Class\": \"Iris-versicolor\"}, {\"Sepal Length\": 6.0, \"Sepal Width\": 3.4, \"Petal Length\": 4.5, \"Petal Width\": 1.6, \"Class\": \"Iris-versicolor\"}, {\"Sepal Length\": 6.7, \"Sepal Width\": 3.1, \"Petal Length\": 4.7, \"Petal Width\": 1.5, \"Class\": \"Iris-versicolor\"}, {\"Sepal Length\": 6.3, \"Sepal Width\": 2.3, \"Petal Length\": 4.4, \"Petal Width\": 1.3, \"Class\": \"Iris-versicolor\"}, {\"Sepal Length\": 5.6, \"Sepal Width\": 3.0, \"Petal Length\": 4.1, \"Petal Width\": 1.3, \"Class\": \"Iris-versicolor\"}, {\"Sepal Length\": 5.5, \"Sepal Width\": 2.5, \"Petal Length\": 4.0, \"Petal Width\": 1.3, \"Class\": \"Iris-versicolor\"}, {\"Sepal Length\": 5.5, \"Sepal Width\": 2.6, \"Petal Length\": 4.4, \"Petal Width\": 1.2, \"Class\": \"Iris-versicolor\"}, {\"Sepal Length\": 6.1, \"Sepal Width\": 3.0, \"Petal Length\": 4.6, \"Petal Width\": 1.4, \"Class\": \"Iris-versicolor\"}, {\"Sepal Length\": 5.8, \"Sepal Width\": 2.6, \"Petal Length\": 4.0, \"Petal Width\": 1.2, \"Class\": \"Iris-versicolor\"}, {\"Sepal Length\": 5.0, \"Sepal Width\": 2.3, \"Petal Length\": 3.3, \"Petal Width\": 1.0, \"Class\": \"Iris-versicolor\"}, {\"Sepal Length\": 5.6, \"Sepal Width\": 2.7, \"Petal Length\": 4.2, \"Petal Width\": 1.3, \"Class\": \"Iris-versicolor\"}, {\"Sepal Length\": 5.7, \"Sepal Width\": 3.0, \"Petal Length\": 4.2, \"Petal Width\": 1.2, \"Class\": \"Iris-versicolor\"}, {\"Sepal Length\": 5.7, \"Sepal Width\": 2.9, \"Petal Length\": 4.2, \"Petal Width\": 1.3, \"Class\": \"Iris-versicolor\"}, {\"Sepal Length\": 6.2, \"Sepal Width\": 2.9, \"Petal Length\": 4.3, \"Petal Width\": 1.3, \"Class\": \"Iris-versicolor\"}, {\"Sepal Length\": 5.1, \"Sepal Width\": 2.5, \"Petal Length\": 3.0, \"Petal Width\": 1.1, \"Class\": \"Iris-versicolor\"}, {\"Sepal Length\": 5.7, \"Sepal Width\": 2.8, \"Petal Length\": 4.1, \"Petal Width\": 1.3, \"Class\": \"Iris-versicolor\"}, {\"Sepal Length\": 6.3, \"Sepal Width\": 3.3, \"Petal Length\": 6.0, \"Petal Width\": 2.5, \"Class\": \"Iris-virginica\"}, {\"Sepal Length\": 5.8, \"Sepal Width\": 2.7, \"Petal Length\": 5.1, \"Petal Width\": 1.9, \"Class\": \"Iris-virginica\"}, {\"Sepal Length\": 7.1, \"Sepal Width\": 3.0, \"Petal Length\": 5.9, \"Petal Width\": 2.1, \"Class\": \"Iris-virginica\"}, {\"Sepal Length\": 6.3, \"Sepal Width\": 2.9, \"Petal Length\": 5.6, \"Petal Width\": 1.8, \"Class\": \"Iris-virginica\"}, {\"Sepal Length\": 6.5, \"Sepal Width\": 3.0, \"Petal Length\": 5.8, \"Petal Width\": 2.2, \"Class\": \"Iris-virginica\"}, {\"Sepal Length\": 7.6, \"Sepal Width\": 3.0, \"Petal Length\": 6.6, \"Petal Width\": 2.1, \"Class\": \"Iris-virginica\"}, {\"Sepal Length\": 4.9, \"Sepal Width\": 2.5, \"Petal Length\": 4.5, \"Petal Width\": 1.7, \"Class\": \"Iris-virginica\"}, {\"Sepal Length\": 7.3, \"Sepal Width\": 2.9, \"Petal Length\": 6.3, \"Petal Width\": 1.8, \"Class\": \"Iris-virginica\"}, {\"Sepal Length\": 6.7, \"Sepal Width\": 2.5, \"Petal Length\": 5.8, \"Petal Width\": 1.8, \"Class\": \"Iris-virginica\"}, {\"Sepal Length\": 7.2, \"Sepal Width\": 3.6, \"Petal Length\": 6.1, \"Petal Width\": 2.5, \"Class\": \"Iris-virginica\"}, {\"Sepal Length\": 6.5, \"Sepal Width\": 3.2, \"Petal Length\": 5.1, \"Petal Width\": 2.0, \"Class\": \"Iris-virginica\"}, {\"Sepal Length\": 6.4, \"Sepal Width\": 2.7, \"Petal Length\": 5.3, \"Petal Width\": 1.9, \"Class\": \"Iris-virginica\"}, {\"Sepal Length\": 6.8, \"Sepal Width\": 3.0, \"Petal Length\": 5.5, \"Petal Width\": 2.1, \"Class\": \"Iris-virginica\"}, {\"Sepal Length\": 5.7, \"Sepal Width\": 2.5, \"Petal Length\": 5.0, \"Petal Width\": 2.0, \"Class\": \"Iris-virginica\"}, {\"Sepal Length\": 5.8, \"Sepal Width\": 2.8, \"Petal Length\": 5.1, \"Petal Width\": 2.4, \"Class\": \"Iris-virginica\"}, {\"Sepal Length\": 6.4, \"Sepal Width\": 3.2, \"Petal Length\": 5.3, \"Petal Width\": 2.3, \"Class\": \"Iris-virginica\"}, {\"Sepal Length\": 6.5, \"Sepal Width\": 3.0, \"Petal Length\": 5.5, \"Petal Width\": 1.8, \"Class\": \"Iris-virginica\"}, {\"Sepal Length\": 7.7, \"Sepal Width\": 3.8, \"Petal Length\": 6.7, \"Petal Width\": 2.2, \"Class\": \"Iris-virginica\"}, {\"Sepal Length\": 7.7, \"Sepal Width\": 2.6, \"Petal Length\": 6.9, \"Petal Width\": 2.3, \"Class\": \"Iris-virginica\"}, {\"Sepal Length\": 6.0, \"Sepal Width\": 2.2, \"Petal Length\": 5.0, \"Petal Width\": 1.5, \"Class\": \"Iris-virginica\"}, {\"Sepal Length\": 6.9, \"Sepal Width\": 3.2, \"Petal Length\": 5.7, \"Petal Width\": 2.3, \"Class\": \"Iris-virginica\"}, {\"Sepal Length\": 5.6, \"Sepal Width\": 2.8, \"Petal Length\": 4.9, \"Petal Width\": 2.0, \"Class\": \"Iris-virginica\"}, {\"Sepal Length\": 7.7, \"Sepal Width\": 2.8, \"Petal Length\": 6.7, \"Petal Width\": 2.0, \"Class\": \"Iris-virginica\"}, {\"Sepal Length\": 6.3, \"Sepal Width\": 2.7, \"Petal Length\": 4.9, \"Petal Width\": 1.8, \"Class\": \"Iris-virginica\"}, {\"Sepal Length\": 6.7, \"Sepal Width\": 3.3, \"Petal Length\": 5.7, \"Petal Width\": 2.1, \"Class\": \"Iris-virginica\"}, {\"Sepal Length\": 7.2, \"Sepal Width\": 3.2, \"Petal Length\": 6.0, \"Petal Width\": 1.8, \"Class\": \"Iris-virginica\"}, {\"Sepal Length\": 6.2, \"Sepal Width\": 2.8, \"Petal Length\": 4.8, \"Petal Width\": 1.8, \"Class\": \"Iris-virginica\"}, {\"Sepal Length\": 6.1, \"Sepal Width\": 3.0, \"Petal Length\": 4.9, \"Petal Width\": 1.8, \"Class\": \"Iris-virginica\"}, {\"Sepal Length\": 6.4, \"Sepal Width\": 2.8, \"Petal Length\": 5.6, \"Petal Width\": 2.1, \"Class\": \"Iris-virginica\"}, {\"Sepal Length\": 7.2, \"Sepal Width\": 3.0, \"Petal Length\": 5.8, \"Petal Width\": 1.6, \"Class\": \"Iris-virginica\"}, {\"Sepal Length\": 7.4, \"Sepal Width\": 2.8, \"Petal Length\": 6.1, \"Petal Width\": 1.9, \"Class\": \"Iris-virginica\"}, {\"Sepal Length\": 7.9, \"Sepal Width\": 3.8, \"Petal Length\": 6.4, \"Petal Width\": 2.0, \"Class\": \"Iris-virginica\"}, {\"Sepal Length\": 6.4, \"Sepal Width\": 2.8, \"Petal Length\": 5.6, \"Petal Width\": 2.2, \"Class\": \"Iris-virginica\"}, {\"Sepal Length\": 6.3, \"Sepal Width\": 2.8, \"Petal Length\": 5.1, \"Petal Width\": 1.5, \"Class\": \"Iris-virginica\"}, {\"Sepal Length\": 6.1, \"Sepal Width\": 2.6, \"Petal Length\": 5.6, \"Petal Width\": 1.4, \"Class\": \"Iris-virginica\"}, {\"Sepal Length\": 7.7, \"Sepal Width\": 3.0, \"Petal Length\": 6.1, \"Petal Width\": 2.3, \"Class\": \"Iris-virginica\"}, {\"Sepal Length\": 6.3, \"Sepal Width\": 3.4, \"Petal Length\": 5.6, \"Petal Width\": 2.4, \"Class\": \"Iris-virginica\"}, {\"Sepal Length\": 6.4, \"Sepal Width\": 3.1, \"Petal Length\": 5.5, \"Petal Width\": 1.8, \"Class\": \"Iris-virginica\"}, {\"Sepal Length\": 6.0, \"Sepal Width\": 3.0, \"Petal Length\": 4.8, \"Petal Width\": 1.8, \"Class\": \"Iris-virginica\"}, {\"Sepal Length\": 6.9, \"Sepal Width\": 3.1, \"Petal Length\": 5.4, \"Petal Width\": 2.1, \"Class\": \"Iris-virginica\"}, {\"Sepal Length\": 6.7, \"Sepal Width\": 3.1, \"Petal Length\": 5.6, \"Petal Width\": 2.4, \"Class\": \"Iris-virginica\"}, {\"Sepal Length\": 6.9, \"Sepal Width\": 3.1, \"Petal Length\": 5.1, \"Petal Width\": 2.3, \"Class\": \"Iris-virginica\"}, {\"Sepal Length\": 5.8, \"Sepal Width\": 2.7, \"Petal Length\": 5.1, \"Petal Width\": 1.9, \"Class\": \"Iris-virginica\"}, {\"Sepal Length\": 6.8, \"Sepal Width\": 3.2, \"Petal Length\": 5.9, \"Petal Width\": 2.3, \"Class\": \"Iris-virginica\"}, {\"Sepal Length\": 6.7, \"Sepal Width\": 3.3, \"Petal Length\": 5.7, \"Petal Width\": 2.5, \"Class\": \"Iris-virginica\"}, {\"Sepal Length\": 6.7, \"Sepal Width\": 3.0, \"Petal Length\": 5.2, \"Petal Width\": 2.3, \"Class\": \"Iris-virginica\"}, {\"Sepal Length\": 6.3, \"Sepal Width\": 2.5, \"Petal Length\": 5.0, \"Petal Width\": 1.9, \"Class\": \"Iris-virginica\"}, {\"Sepal Length\": 6.5, \"Sepal Width\": 3.0, \"Petal Length\": 5.2, \"Petal Width\": 2.0, \"Class\": \"Iris-virginica\"}, {\"Sepal Length\": 6.2, \"Sepal Width\": 3.4, \"Petal Length\": 5.4, \"Petal Width\": 2.3, \"Class\": \"Iris-virginica\"}, {\"Sepal Length\": 5.9, \"Sepal Width\": 3.0, \"Petal Length\": 5.1, \"Petal Width\": 1.8, \"Class\": \"Iris-virginica\"}]}}, {\"mode\": \"vega-lite\"});\n",
       "</script>"
      ],
      "text/plain": [
       "alt.HConcatChart(...)"
      ]
     },
     "execution_count": 6,
     "metadata": {},
     "output_type": "execute_result"
    }
   ],
   "source": [
    "#combining all charts\n",
    "points_1 & points_2 | points_3 & points_4 | box_1 & box_2 & box_3 & box_4"
   ]
  },
  {
   "cell_type": "code",
   "execution_count": 7,
   "id": "structured-attribute",
   "metadata": {},
   "outputs": [
    {
     "data": {
      "text/html": [
       "\n",
       "<div id=\"altair-viz-4fdc021ea051430997b7942a03a9e1f3\"></div>\n",
       "<script type=\"text/javascript\">\n",
       "  (function(spec, embedOpt){\n",
       "    let outputDiv = document.currentScript.previousElementSibling;\n",
       "    if (outputDiv.id !== \"altair-viz-4fdc021ea051430997b7942a03a9e1f3\") {\n",
       "      outputDiv = document.getElementById(\"altair-viz-4fdc021ea051430997b7942a03a9e1f3\");\n",
       "    }\n",
       "    const paths = {\n",
       "      \"vega\": \"https://cdn.jsdelivr.net/npm//vega@5?noext\",\n",
       "      \"vega-lib\": \"https://cdn.jsdelivr.net/npm//vega-lib?noext\",\n",
       "      \"vega-lite\": \"https://cdn.jsdelivr.net/npm//vega-lite@4.8.1?noext\",\n",
       "      \"vega-embed\": \"https://cdn.jsdelivr.net/npm//vega-embed@6?noext\",\n",
       "    };\n",
       "\n",
       "    function loadScript(lib) {\n",
       "      return new Promise(function(resolve, reject) {\n",
       "        var s = document.createElement('script');\n",
       "        s.src = paths[lib];\n",
       "        s.async = true;\n",
       "        s.onload = () => resolve(paths[lib]);\n",
       "        s.onerror = () => reject(`Error loading script: ${paths[lib]}`);\n",
       "        document.getElementsByTagName(\"head\")[0].appendChild(s);\n",
       "      });\n",
       "    }\n",
       "\n",
       "    function showError(err) {\n",
       "      outputDiv.innerHTML = `<div class=\"error\" style=\"color:red;\">${err}</div>`;\n",
       "      throw err;\n",
       "    }\n",
       "\n",
       "    function displayChart(vegaEmbed) {\n",
       "      vegaEmbed(outputDiv, spec, embedOpt)\n",
       "        .catch(err => showError(`Javascript Error: ${err.message}<br>This usually means there's a typo in your chart specification. See the javascript console for the full traceback.`));\n",
       "    }\n",
       "\n",
       "    if(typeof define === \"function\" && define.amd) {\n",
       "      requirejs.config({paths});\n",
       "      require([\"vega-embed\"], displayChart, err => showError(`Error loading script: ${err.message}`));\n",
       "    } else if (typeof vegaEmbed === \"function\") {\n",
       "      displayChart(vegaEmbed);\n",
       "    } else {\n",
       "      loadScript(\"vega\")\n",
       "        .then(() => loadScript(\"vega-lite\"))\n",
       "        .then(() => loadScript(\"vega-embed\"))\n",
       "        .catch(showError)\n",
       "        .then(() => displayChart(vegaEmbed));\n",
       "    }\n",
       "  })({\"config\": {\"view\": {\"continuousWidth\": 400, \"continuousHeight\": 300}}, \"vconcat\": [{\"mark\": \"point\", \"encoding\": {\"color\": {\"condition\": {\"type\": \"nominal\", \"field\": \"Class\", \"selection\": \"selector001\"}, \"value\": \"lightgray\"}, \"x\": {\"type\": \"quantitative\", \"field\": \"Sepal Width\"}, \"y\": {\"type\": \"quantitative\", \"field\": \"Sepal Length\"}}, \"selection\": {\"selector001\": {\"type\": \"interval\"}}, \"title\": \"Sepal Data\"}, {\"mark\": \"boxplot\", \"encoding\": {\"color\": {\"type\": \"nominal\", \"field\": \"Class\"}, \"x\": {\"type\": \"quantitative\", \"field\": \"Sepal Length\"}, \"y\": {\"type\": \"nominal\", \"field\": \"Class\"}}, \"title\": \"Sepal Length Summary\", \"transform\": [{\"filter\": {\"selection\": \"selector001\"}}]}], \"data\": {\"name\": \"data-ac6934c2f4458f3f04cac25a1411fd13\"}, \"$schema\": \"https://vega.github.io/schema/vega-lite/v4.8.1.json\", \"datasets\": {\"data-ac6934c2f4458f3f04cac25a1411fd13\": [{\"Sepal Length\": 5.1, \"Sepal Width\": 3.5, \"Petal Length\": 1.4, \"Petal Width\": 0.2, \"Class\": \"Iris-setosa\"}, {\"Sepal Length\": 4.9, \"Sepal Width\": 3.0, \"Petal Length\": 1.4, \"Petal Width\": 0.2, \"Class\": \"Iris-setosa\"}, {\"Sepal Length\": 4.7, \"Sepal Width\": 3.2, \"Petal Length\": 1.3, \"Petal Width\": 0.2, \"Class\": \"Iris-setosa\"}, {\"Sepal Length\": 4.6, \"Sepal Width\": 3.1, \"Petal Length\": 1.5, \"Petal Width\": 0.2, \"Class\": \"Iris-setosa\"}, {\"Sepal Length\": 5.0, \"Sepal Width\": 3.6, \"Petal Length\": 1.4, \"Petal Width\": 0.2, \"Class\": \"Iris-setosa\"}, {\"Sepal Length\": 5.4, \"Sepal Width\": 3.9, \"Petal Length\": 1.7, \"Petal Width\": 0.4, \"Class\": \"Iris-setosa\"}, {\"Sepal Length\": 4.6, \"Sepal Width\": 3.4, \"Petal Length\": 1.4, \"Petal Width\": 0.3, \"Class\": \"Iris-setosa\"}, {\"Sepal Length\": 5.0, \"Sepal Width\": 3.4, \"Petal Length\": 1.5, \"Petal Width\": 0.2, \"Class\": \"Iris-setosa\"}, {\"Sepal Length\": 4.4, \"Sepal Width\": 2.9, \"Petal Length\": 1.4, \"Petal Width\": 0.2, \"Class\": \"Iris-setosa\"}, {\"Sepal Length\": 4.9, \"Sepal Width\": 3.1, \"Petal Length\": 1.5, \"Petal Width\": 0.1, \"Class\": \"Iris-setosa\"}, {\"Sepal Length\": 5.4, \"Sepal Width\": 3.7, \"Petal Length\": 1.5, \"Petal Width\": 0.2, \"Class\": \"Iris-setosa\"}, {\"Sepal Length\": 4.8, \"Sepal Width\": 3.4, \"Petal Length\": 1.6, \"Petal Width\": 0.2, \"Class\": \"Iris-setosa\"}, {\"Sepal Length\": 4.8, \"Sepal Width\": 3.0, \"Petal Length\": 1.4, \"Petal Width\": 0.1, \"Class\": \"Iris-setosa\"}, {\"Sepal Length\": 4.3, \"Sepal Width\": 3.0, \"Petal Length\": 1.1, \"Petal Width\": 0.1, \"Class\": \"Iris-setosa\"}, {\"Sepal Length\": 5.8, \"Sepal Width\": 4.0, \"Petal Length\": 1.2, \"Petal Width\": 0.2, \"Class\": \"Iris-setosa\"}, {\"Sepal Length\": 5.7, \"Sepal Width\": 4.4, \"Petal Length\": 1.5, \"Petal Width\": 0.4, \"Class\": \"Iris-setosa\"}, {\"Sepal Length\": 5.4, \"Sepal Width\": 3.9, \"Petal Length\": 1.3, \"Petal Width\": 0.4, \"Class\": \"Iris-setosa\"}, {\"Sepal Length\": 5.1, \"Sepal Width\": 3.5, \"Petal Length\": 1.4, \"Petal Width\": 0.3, \"Class\": \"Iris-setosa\"}, {\"Sepal Length\": 5.7, \"Sepal Width\": 3.8, \"Petal Length\": 1.7, \"Petal Width\": 0.3, \"Class\": \"Iris-setosa\"}, {\"Sepal Length\": 5.1, \"Sepal Width\": 3.8, \"Petal Length\": 1.5, \"Petal Width\": 0.3, \"Class\": \"Iris-setosa\"}, {\"Sepal Length\": 5.4, \"Sepal Width\": 3.4, \"Petal Length\": 1.7, \"Petal Width\": 0.2, \"Class\": \"Iris-setosa\"}, {\"Sepal Length\": 5.1, \"Sepal Width\": 3.7, \"Petal Length\": 1.5, \"Petal Width\": 0.4, \"Class\": \"Iris-setosa\"}, {\"Sepal Length\": 4.6, \"Sepal Width\": 3.6, \"Petal Length\": 1.0, \"Petal Width\": 0.2, \"Class\": \"Iris-setosa\"}, {\"Sepal Length\": 5.1, \"Sepal Width\": 3.3, \"Petal Length\": 1.7, \"Petal Width\": 0.5, \"Class\": \"Iris-setosa\"}, {\"Sepal Length\": 4.8, \"Sepal Width\": 3.4, \"Petal Length\": 1.9, \"Petal Width\": 0.2, \"Class\": \"Iris-setosa\"}, {\"Sepal Length\": 5.0, \"Sepal Width\": 3.0, \"Petal Length\": 1.6, \"Petal Width\": 0.2, \"Class\": \"Iris-setosa\"}, {\"Sepal Length\": 5.0, \"Sepal Width\": 3.4, \"Petal Length\": 1.6, \"Petal Width\": 0.4, \"Class\": \"Iris-setosa\"}, {\"Sepal Length\": 5.2, \"Sepal Width\": 3.5, \"Petal Length\": 1.5, \"Petal Width\": 0.2, \"Class\": \"Iris-setosa\"}, {\"Sepal Length\": 5.2, \"Sepal Width\": 3.4, \"Petal Length\": 1.4, \"Petal Width\": 0.2, \"Class\": \"Iris-setosa\"}, {\"Sepal Length\": 4.7, \"Sepal Width\": 3.2, \"Petal Length\": 1.6, \"Petal Width\": 0.2, \"Class\": \"Iris-setosa\"}, {\"Sepal Length\": 4.8, \"Sepal Width\": 3.1, \"Petal Length\": 1.6, \"Petal Width\": 0.2, \"Class\": \"Iris-setosa\"}, {\"Sepal Length\": 5.4, \"Sepal Width\": 3.4, \"Petal Length\": 1.5, \"Petal Width\": 0.4, \"Class\": \"Iris-setosa\"}, {\"Sepal Length\": 5.2, \"Sepal Width\": 4.1, \"Petal Length\": 1.5, \"Petal Width\": 0.1, \"Class\": \"Iris-setosa\"}, {\"Sepal Length\": 5.5, \"Sepal Width\": 4.2, \"Petal Length\": 1.4, \"Petal Width\": 0.2, \"Class\": \"Iris-setosa\"}, {\"Sepal Length\": 4.9, \"Sepal Width\": 3.1, \"Petal Length\": 1.5, \"Petal Width\": 0.1, \"Class\": \"Iris-setosa\"}, {\"Sepal Length\": 5.0, \"Sepal Width\": 3.2, \"Petal Length\": 1.2, \"Petal Width\": 0.2, \"Class\": \"Iris-setosa\"}, {\"Sepal Length\": 5.5, \"Sepal Width\": 3.5, \"Petal Length\": 1.3, \"Petal Width\": 0.2, \"Class\": \"Iris-setosa\"}, {\"Sepal Length\": 4.9, \"Sepal Width\": 3.1, \"Petal Length\": 1.5, \"Petal Width\": 0.1, \"Class\": \"Iris-setosa\"}, {\"Sepal Length\": 4.4, \"Sepal Width\": 3.0, \"Petal Length\": 1.3, \"Petal Width\": 0.2, \"Class\": \"Iris-setosa\"}, {\"Sepal Length\": 5.1, \"Sepal Width\": 3.4, \"Petal Length\": 1.5, \"Petal Width\": 0.2, \"Class\": \"Iris-setosa\"}, {\"Sepal Length\": 5.0, \"Sepal Width\": 3.5, \"Petal Length\": 1.3, \"Petal Width\": 0.3, \"Class\": \"Iris-setosa\"}, {\"Sepal Length\": 4.5, \"Sepal Width\": 2.3, \"Petal Length\": 1.3, \"Petal Width\": 0.3, \"Class\": \"Iris-setosa\"}, {\"Sepal Length\": 4.4, \"Sepal Width\": 3.2, \"Petal Length\": 1.3, \"Petal Width\": 0.2, \"Class\": \"Iris-setosa\"}, {\"Sepal Length\": 5.0, \"Sepal Width\": 3.5, \"Petal Length\": 1.6, \"Petal Width\": 0.6, \"Class\": \"Iris-setosa\"}, {\"Sepal Length\": 5.1, \"Sepal Width\": 3.8, \"Petal Length\": 1.9, \"Petal Width\": 0.4, \"Class\": \"Iris-setosa\"}, {\"Sepal Length\": 4.8, \"Sepal Width\": 3.0, \"Petal Length\": 1.4, \"Petal Width\": 0.3, \"Class\": \"Iris-setosa\"}, {\"Sepal Length\": 5.1, \"Sepal Width\": 3.8, \"Petal Length\": 1.6, \"Petal Width\": 0.2, \"Class\": \"Iris-setosa\"}, {\"Sepal Length\": 4.6, \"Sepal Width\": 3.2, \"Petal Length\": 1.4, \"Petal Width\": 0.2, \"Class\": \"Iris-setosa\"}, {\"Sepal Length\": 5.3, \"Sepal Width\": 3.7, \"Petal Length\": 1.5, \"Petal Width\": 0.2, \"Class\": \"Iris-setosa\"}, {\"Sepal Length\": 5.0, \"Sepal Width\": 3.3, \"Petal Length\": 1.4, \"Petal Width\": 0.2, \"Class\": \"Iris-setosa\"}, {\"Sepal Length\": 7.0, \"Sepal Width\": 3.2, \"Petal Length\": 4.7, \"Petal Width\": 1.4, \"Class\": \"Iris-versicolor\"}, {\"Sepal Length\": 6.4, \"Sepal Width\": 3.2, \"Petal Length\": 4.5, \"Petal Width\": 1.5, \"Class\": \"Iris-versicolor\"}, {\"Sepal Length\": 6.9, \"Sepal Width\": 3.1, \"Petal Length\": 4.9, \"Petal Width\": 1.5, \"Class\": \"Iris-versicolor\"}, {\"Sepal Length\": 5.5, \"Sepal Width\": 2.3, \"Petal Length\": 4.0, \"Petal Width\": 1.3, \"Class\": \"Iris-versicolor\"}, {\"Sepal Length\": 6.5, \"Sepal Width\": 2.8, \"Petal Length\": 4.6, \"Petal Width\": 1.5, \"Class\": \"Iris-versicolor\"}, {\"Sepal Length\": 5.7, \"Sepal Width\": 2.8, \"Petal Length\": 4.5, \"Petal Width\": 1.3, \"Class\": \"Iris-versicolor\"}, {\"Sepal Length\": 6.3, \"Sepal Width\": 3.3, \"Petal Length\": 4.7, \"Petal Width\": 1.6, \"Class\": \"Iris-versicolor\"}, {\"Sepal Length\": 4.9, \"Sepal Width\": 2.4, \"Petal Length\": 3.3, \"Petal Width\": 1.0, \"Class\": \"Iris-versicolor\"}, {\"Sepal Length\": 6.6, \"Sepal Width\": 2.9, \"Petal Length\": 4.6, \"Petal Width\": 1.3, \"Class\": \"Iris-versicolor\"}, {\"Sepal Length\": 5.2, \"Sepal Width\": 2.7, \"Petal Length\": 3.9, \"Petal Width\": 1.4, \"Class\": \"Iris-versicolor\"}, {\"Sepal Length\": 5.0, \"Sepal Width\": 2.0, \"Petal Length\": 3.5, \"Petal Width\": 1.0, \"Class\": \"Iris-versicolor\"}, {\"Sepal Length\": 5.9, \"Sepal Width\": 3.0, \"Petal Length\": 4.2, \"Petal Width\": 1.5, \"Class\": \"Iris-versicolor\"}, {\"Sepal Length\": 6.0, \"Sepal Width\": 2.2, \"Petal Length\": 4.0, \"Petal Width\": 1.0, \"Class\": \"Iris-versicolor\"}, {\"Sepal Length\": 6.1, \"Sepal Width\": 2.9, \"Petal Length\": 4.7, \"Petal Width\": 1.4, \"Class\": \"Iris-versicolor\"}, {\"Sepal Length\": 5.6, \"Sepal Width\": 2.9, \"Petal Length\": 3.6, \"Petal Width\": 1.3, \"Class\": \"Iris-versicolor\"}, {\"Sepal Length\": 6.7, \"Sepal Width\": 3.1, \"Petal Length\": 4.4, \"Petal Width\": 1.4, \"Class\": \"Iris-versicolor\"}, {\"Sepal Length\": 5.6, \"Sepal Width\": 3.0, \"Petal Length\": 4.5, \"Petal Width\": 1.5, \"Class\": \"Iris-versicolor\"}, {\"Sepal Length\": 5.8, \"Sepal Width\": 2.7, \"Petal Length\": 4.1, \"Petal Width\": 1.0, \"Class\": \"Iris-versicolor\"}, {\"Sepal Length\": 6.2, \"Sepal Width\": 2.2, \"Petal Length\": 4.5, \"Petal Width\": 1.5, \"Class\": \"Iris-versicolor\"}, {\"Sepal Length\": 5.6, \"Sepal Width\": 2.5, \"Petal Length\": 3.9, \"Petal Width\": 1.1, \"Class\": \"Iris-versicolor\"}, {\"Sepal Length\": 5.9, \"Sepal Width\": 3.2, \"Petal Length\": 4.8, \"Petal Width\": 1.8, \"Class\": \"Iris-versicolor\"}, {\"Sepal Length\": 6.1, \"Sepal Width\": 2.8, \"Petal Length\": 4.0, \"Petal Width\": 1.3, \"Class\": \"Iris-versicolor\"}, {\"Sepal Length\": 6.3, \"Sepal Width\": 2.5, \"Petal Length\": 4.9, \"Petal Width\": 1.5, \"Class\": \"Iris-versicolor\"}, {\"Sepal Length\": 6.1, \"Sepal Width\": 2.8, \"Petal Length\": 4.7, \"Petal Width\": 1.2, \"Class\": \"Iris-versicolor\"}, {\"Sepal Length\": 6.4, \"Sepal Width\": 2.9, \"Petal Length\": 4.3, \"Petal Width\": 1.3, \"Class\": \"Iris-versicolor\"}, {\"Sepal Length\": 6.6, \"Sepal Width\": 3.0, \"Petal Length\": 4.4, \"Petal Width\": 1.4, \"Class\": \"Iris-versicolor\"}, {\"Sepal Length\": 6.8, \"Sepal Width\": 2.8, \"Petal Length\": 4.8, \"Petal Width\": 1.4, \"Class\": \"Iris-versicolor\"}, {\"Sepal Length\": 6.7, \"Sepal Width\": 3.0, \"Petal Length\": 5.0, \"Petal Width\": 1.7, \"Class\": \"Iris-versicolor\"}, {\"Sepal Length\": 6.0, \"Sepal Width\": 2.9, \"Petal Length\": 4.5, \"Petal Width\": 1.5, \"Class\": \"Iris-versicolor\"}, {\"Sepal Length\": 5.7, \"Sepal Width\": 2.6, \"Petal Length\": 3.5, \"Petal Width\": 1.0, \"Class\": \"Iris-versicolor\"}, {\"Sepal Length\": 5.5, \"Sepal Width\": 2.4, \"Petal Length\": 3.8, \"Petal Width\": 1.1, \"Class\": \"Iris-versicolor\"}, {\"Sepal Length\": 5.5, \"Sepal Width\": 2.4, \"Petal Length\": 3.7, \"Petal Width\": 1.0, \"Class\": \"Iris-versicolor\"}, {\"Sepal Length\": 5.8, \"Sepal Width\": 2.7, \"Petal Length\": 3.9, \"Petal Width\": 1.2, \"Class\": \"Iris-versicolor\"}, {\"Sepal Length\": 6.0, \"Sepal Width\": 2.7, \"Petal Length\": 5.1, \"Petal Width\": 1.6, \"Class\": \"Iris-versicolor\"}, {\"Sepal Length\": 5.4, \"Sepal Width\": 3.0, \"Petal Length\": 4.5, \"Petal Width\": 1.5, \"Class\": \"Iris-versicolor\"}, {\"Sepal Length\": 6.0, \"Sepal Width\": 3.4, \"Petal Length\": 4.5, \"Petal Width\": 1.6, \"Class\": \"Iris-versicolor\"}, {\"Sepal Length\": 6.7, \"Sepal Width\": 3.1, \"Petal Length\": 4.7, \"Petal Width\": 1.5, \"Class\": \"Iris-versicolor\"}, {\"Sepal Length\": 6.3, \"Sepal Width\": 2.3, \"Petal Length\": 4.4, \"Petal Width\": 1.3, \"Class\": \"Iris-versicolor\"}, {\"Sepal Length\": 5.6, \"Sepal Width\": 3.0, \"Petal Length\": 4.1, \"Petal Width\": 1.3, \"Class\": \"Iris-versicolor\"}, {\"Sepal Length\": 5.5, \"Sepal Width\": 2.5, \"Petal Length\": 4.0, \"Petal Width\": 1.3, \"Class\": \"Iris-versicolor\"}, {\"Sepal Length\": 5.5, \"Sepal Width\": 2.6, \"Petal Length\": 4.4, \"Petal Width\": 1.2, \"Class\": \"Iris-versicolor\"}, {\"Sepal Length\": 6.1, \"Sepal Width\": 3.0, \"Petal Length\": 4.6, \"Petal Width\": 1.4, \"Class\": \"Iris-versicolor\"}, {\"Sepal Length\": 5.8, \"Sepal Width\": 2.6, \"Petal Length\": 4.0, \"Petal Width\": 1.2, \"Class\": \"Iris-versicolor\"}, {\"Sepal Length\": 5.0, \"Sepal Width\": 2.3, \"Petal Length\": 3.3, \"Petal Width\": 1.0, \"Class\": \"Iris-versicolor\"}, {\"Sepal Length\": 5.6, \"Sepal Width\": 2.7, \"Petal Length\": 4.2, \"Petal Width\": 1.3, \"Class\": \"Iris-versicolor\"}, {\"Sepal Length\": 5.7, \"Sepal Width\": 3.0, \"Petal Length\": 4.2, \"Petal Width\": 1.2, \"Class\": \"Iris-versicolor\"}, {\"Sepal Length\": 5.7, \"Sepal Width\": 2.9, \"Petal Length\": 4.2, \"Petal Width\": 1.3, \"Class\": \"Iris-versicolor\"}, {\"Sepal Length\": 6.2, \"Sepal Width\": 2.9, \"Petal Length\": 4.3, \"Petal Width\": 1.3, \"Class\": \"Iris-versicolor\"}, {\"Sepal Length\": 5.1, \"Sepal Width\": 2.5, \"Petal Length\": 3.0, \"Petal Width\": 1.1, \"Class\": \"Iris-versicolor\"}, {\"Sepal Length\": 5.7, \"Sepal Width\": 2.8, \"Petal Length\": 4.1, \"Petal Width\": 1.3, \"Class\": \"Iris-versicolor\"}, {\"Sepal Length\": 6.3, \"Sepal Width\": 3.3, \"Petal Length\": 6.0, \"Petal Width\": 2.5, \"Class\": \"Iris-virginica\"}, {\"Sepal Length\": 5.8, \"Sepal Width\": 2.7, \"Petal Length\": 5.1, \"Petal Width\": 1.9, \"Class\": \"Iris-virginica\"}, {\"Sepal Length\": 7.1, \"Sepal Width\": 3.0, \"Petal Length\": 5.9, \"Petal Width\": 2.1, \"Class\": \"Iris-virginica\"}, {\"Sepal Length\": 6.3, \"Sepal Width\": 2.9, \"Petal Length\": 5.6, \"Petal Width\": 1.8, \"Class\": \"Iris-virginica\"}, {\"Sepal Length\": 6.5, \"Sepal Width\": 3.0, \"Petal Length\": 5.8, \"Petal Width\": 2.2, \"Class\": \"Iris-virginica\"}, {\"Sepal Length\": 7.6, \"Sepal Width\": 3.0, \"Petal Length\": 6.6, \"Petal Width\": 2.1, \"Class\": \"Iris-virginica\"}, {\"Sepal Length\": 4.9, \"Sepal Width\": 2.5, \"Petal Length\": 4.5, \"Petal Width\": 1.7, \"Class\": \"Iris-virginica\"}, {\"Sepal Length\": 7.3, \"Sepal Width\": 2.9, \"Petal Length\": 6.3, \"Petal Width\": 1.8, \"Class\": \"Iris-virginica\"}, {\"Sepal Length\": 6.7, \"Sepal Width\": 2.5, \"Petal Length\": 5.8, \"Petal Width\": 1.8, \"Class\": \"Iris-virginica\"}, {\"Sepal Length\": 7.2, \"Sepal Width\": 3.6, \"Petal Length\": 6.1, \"Petal Width\": 2.5, \"Class\": \"Iris-virginica\"}, {\"Sepal Length\": 6.5, \"Sepal Width\": 3.2, \"Petal Length\": 5.1, \"Petal Width\": 2.0, \"Class\": \"Iris-virginica\"}, {\"Sepal Length\": 6.4, \"Sepal Width\": 2.7, \"Petal Length\": 5.3, \"Petal Width\": 1.9, \"Class\": \"Iris-virginica\"}, {\"Sepal Length\": 6.8, \"Sepal Width\": 3.0, \"Petal Length\": 5.5, \"Petal Width\": 2.1, \"Class\": \"Iris-virginica\"}, {\"Sepal Length\": 5.7, \"Sepal Width\": 2.5, \"Petal Length\": 5.0, \"Petal Width\": 2.0, \"Class\": \"Iris-virginica\"}, {\"Sepal Length\": 5.8, \"Sepal Width\": 2.8, \"Petal Length\": 5.1, \"Petal Width\": 2.4, \"Class\": \"Iris-virginica\"}, {\"Sepal Length\": 6.4, \"Sepal Width\": 3.2, \"Petal Length\": 5.3, \"Petal Width\": 2.3, \"Class\": \"Iris-virginica\"}, {\"Sepal Length\": 6.5, \"Sepal Width\": 3.0, \"Petal Length\": 5.5, \"Petal Width\": 1.8, \"Class\": \"Iris-virginica\"}, {\"Sepal Length\": 7.7, \"Sepal Width\": 3.8, \"Petal Length\": 6.7, \"Petal Width\": 2.2, \"Class\": \"Iris-virginica\"}, {\"Sepal Length\": 7.7, \"Sepal Width\": 2.6, \"Petal Length\": 6.9, \"Petal Width\": 2.3, \"Class\": \"Iris-virginica\"}, {\"Sepal Length\": 6.0, \"Sepal Width\": 2.2, \"Petal Length\": 5.0, \"Petal Width\": 1.5, \"Class\": \"Iris-virginica\"}, {\"Sepal Length\": 6.9, \"Sepal Width\": 3.2, \"Petal Length\": 5.7, \"Petal Width\": 2.3, \"Class\": \"Iris-virginica\"}, {\"Sepal Length\": 5.6, \"Sepal Width\": 2.8, \"Petal Length\": 4.9, \"Petal Width\": 2.0, \"Class\": \"Iris-virginica\"}, {\"Sepal Length\": 7.7, \"Sepal Width\": 2.8, \"Petal Length\": 6.7, \"Petal Width\": 2.0, \"Class\": \"Iris-virginica\"}, {\"Sepal Length\": 6.3, \"Sepal Width\": 2.7, \"Petal Length\": 4.9, \"Petal Width\": 1.8, \"Class\": \"Iris-virginica\"}, {\"Sepal Length\": 6.7, \"Sepal Width\": 3.3, \"Petal Length\": 5.7, \"Petal Width\": 2.1, \"Class\": \"Iris-virginica\"}, {\"Sepal Length\": 7.2, \"Sepal Width\": 3.2, \"Petal Length\": 6.0, \"Petal Width\": 1.8, \"Class\": \"Iris-virginica\"}, {\"Sepal Length\": 6.2, \"Sepal Width\": 2.8, \"Petal Length\": 4.8, \"Petal Width\": 1.8, \"Class\": \"Iris-virginica\"}, {\"Sepal Length\": 6.1, \"Sepal Width\": 3.0, \"Petal Length\": 4.9, \"Petal Width\": 1.8, \"Class\": \"Iris-virginica\"}, {\"Sepal Length\": 6.4, \"Sepal Width\": 2.8, \"Petal Length\": 5.6, \"Petal Width\": 2.1, \"Class\": \"Iris-virginica\"}, {\"Sepal Length\": 7.2, \"Sepal Width\": 3.0, \"Petal Length\": 5.8, \"Petal Width\": 1.6, \"Class\": \"Iris-virginica\"}, {\"Sepal Length\": 7.4, \"Sepal Width\": 2.8, \"Petal Length\": 6.1, \"Petal Width\": 1.9, \"Class\": \"Iris-virginica\"}, {\"Sepal Length\": 7.9, \"Sepal Width\": 3.8, \"Petal Length\": 6.4, \"Petal Width\": 2.0, \"Class\": \"Iris-virginica\"}, {\"Sepal Length\": 6.4, \"Sepal Width\": 2.8, \"Petal Length\": 5.6, \"Petal Width\": 2.2, \"Class\": \"Iris-virginica\"}, {\"Sepal Length\": 6.3, \"Sepal Width\": 2.8, \"Petal Length\": 5.1, \"Petal Width\": 1.5, \"Class\": \"Iris-virginica\"}, {\"Sepal Length\": 6.1, \"Sepal Width\": 2.6, \"Petal Length\": 5.6, \"Petal Width\": 1.4, \"Class\": \"Iris-virginica\"}, {\"Sepal Length\": 7.7, \"Sepal Width\": 3.0, \"Petal Length\": 6.1, \"Petal Width\": 2.3, \"Class\": \"Iris-virginica\"}, {\"Sepal Length\": 6.3, \"Sepal Width\": 3.4, \"Petal Length\": 5.6, \"Petal Width\": 2.4, \"Class\": \"Iris-virginica\"}, {\"Sepal Length\": 6.4, \"Sepal Width\": 3.1, \"Petal Length\": 5.5, \"Petal Width\": 1.8, \"Class\": \"Iris-virginica\"}, {\"Sepal Length\": 6.0, \"Sepal Width\": 3.0, \"Petal Length\": 4.8, \"Petal Width\": 1.8, \"Class\": \"Iris-virginica\"}, {\"Sepal Length\": 6.9, \"Sepal Width\": 3.1, \"Petal Length\": 5.4, \"Petal Width\": 2.1, \"Class\": \"Iris-virginica\"}, {\"Sepal Length\": 6.7, \"Sepal Width\": 3.1, \"Petal Length\": 5.6, \"Petal Width\": 2.4, \"Class\": \"Iris-virginica\"}, {\"Sepal Length\": 6.9, \"Sepal Width\": 3.1, \"Petal Length\": 5.1, \"Petal Width\": 2.3, \"Class\": \"Iris-virginica\"}, {\"Sepal Length\": 5.8, \"Sepal Width\": 2.7, \"Petal Length\": 5.1, \"Petal Width\": 1.9, \"Class\": \"Iris-virginica\"}, {\"Sepal Length\": 6.8, \"Sepal Width\": 3.2, \"Petal Length\": 5.9, \"Petal Width\": 2.3, \"Class\": \"Iris-virginica\"}, {\"Sepal Length\": 6.7, \"Sepal Width\": 3.3, \"Petal Length\": 5.7, \"Petal Width\": 2.5, \"Class\": \"Iris-virginica\"}, {\"Sepal Length\": 6.7, \"Sepal Width\": 3.0, \"Petal Length\": 5.2, \"Petal Width\": 2.3, \"Class\": \"Iris-virginica\"}, {\"Sepal Length\": 6.3, \"Sepal Width\": 2.5, \"Petal Length\": 5.0, \"Petal Width\": 1.9, \"Class\": \"Iris-virginica\"}, {\"Sepal Length\": 6.5, \"Sepal Width\": 3.0, \"Petal Length\": 5.2, \"Petal Width\": 2.0, \"Class\": \"Iris-virginica\"}, {\"Sepal Length\": 6.2, \"Sepal Width\": 3.4, \"Petal Length\": 5.4, \"Petal Width\": 2.3, \"Class\": \"Iris-virginica\"}, {\"Sepal Length\": 5.9, \"Sepal Width\": 3.0, \"Petal Length\": 5.1, \"Petal Width\": 1.8, \"Class\": \"Iris-virginica\"}]}}, {\"mode\": \"vega-lite\"});\n",
       "</script>"
      ],
      "text/plain": [
       "alt.VConcatChart(...)"
      ]
     },
     "execution_count": 7,
     "metadata": {},
     "output_type": "execute_result"
    }
   ],
   "source": [
    "points_4 & box_3"
   ]
  }
 ],
 "metadata": {
  "kernelspec": {
   "display_name": "Python 3",
   "language": "python",
   "name": "python3"
  },
  "language_info": {
   "codemirror_mode": {
    "name": "ipython",
    "version": 3
   },
   "file_extension": ".py",
   "mimetype": "text/x-python",
   "name": "python",
   "nbconvert_exporter": "python",
   "pygments_lexer": "ipython3",
   "version": "3.7.10"
  }
 },
 "nbformat": 4,
 "nbformat_minor": 5
}
